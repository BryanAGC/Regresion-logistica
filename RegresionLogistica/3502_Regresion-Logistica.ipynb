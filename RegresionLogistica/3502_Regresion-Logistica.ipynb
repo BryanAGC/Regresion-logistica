{
 "cells": [
  {
   "cell_type": "markdown",
   "id": "819c414b",
   "metadata": {},
   "source": [
    "# Regresión Logística: Detección de SPAM"
   ]
  },
  {
   "cell_type": "markdown",
   "id": "b216c23f",
   "metadata": {},
   "source": [
    "En este ejercicio se muestran los fundamentos de la regresión Logística, planteando uno de los primeros problemas que fueron solucionados mediante el uso de técnicas de Machine Learning: La detección de SPAM."
   ]
  },
  {
   "cell_type": "markdown",
   "id": "0855fb58",
   "metadata": {},
   "source": [
    "## Enunciado del Ejercicio"
   ]
  },
  {
   "cell_type": "markdown",
   "id": "1334b248",
   "metadata": {},
   "source": [
    "Se propone la construcción de un sistema de aprendizaje automático capaz de predecir si un correo determinado se corresponde con un correo de SPAM o no, para ello, se utilizará el siguinete conjunto de Datos:\n",
    "\n",
    "##### [2007 TREC Public Spam Corpus](https://terabox.com/s/1cW1v51vsnazpI2PjXAXvCA)\n",
    "The corpus trec07p contains 75,419 messages:\n",
    "\n",
    "    25,220 ham\n",
    "    50,199 spam\n",
    "    \n",
    "These messages constitute all the messages delivered to a particular server bteween these dates:\n",
    "\n",
    "    Sun, 8 Apr 2007 13:07:21 -0400\n",
    "    Fri, 6 jul 2007 07:04:53 -0400"
   ]
  },
  {
   "cell_type": "markdown",
   "id": "d4d55489",
   "metadata": {},
   "source": [
    "### 1.- Funciones Complementarias"
   ]
  },
  {
   "cell_type": "markdown",
   "id": "a0473aa2",
   "metadata": {},
   "source": [
    "En este caso práctico relacionado con la detección de correos electrónicos de SPAM, el conjunto de datos del que se dispone, esta formado por correos electronicos, con sus correspondientes encabezados y campos adicionales. Por lo tanto, se requiere de un procesamiento previo antes de ser ingeridos por el algoritmo de Machine Learning."
   ]
  },
  {
   "cell_type": "code",
   "execution_count": 7,
   "id": "319cb95d",
   "metadata": {},
   "outputs": [],
   "source": [
    "# Esta clase facilita el preprocesamineto de correos electrónicos que poseen código HTML.\n",
    "from html.parser import HTMLParser\n",
    "\n",
    "class MLStripper(HTMLParser):\n",
    "    def __init__(self):\n",
    "        self.reset()\n",
    "        self.strict = False\n",
    "        self.convert_charrefs = True\n",
    "        self.fed = []\n",
    "        \n",
    "    def handle_data(self, d):\n",
    "        self.fed.append(d)\n",
    "        \n",
    "    def get_data(self):\n",
    "        return ''.join(self.fed)"
   ]
  },
  {
   "cell_type": "code",
   "execution_count": 8,
   "id": "d8070e94",
   "metadata": {},
   "outputs": [],
   "source": [
    "# Esta función se encarga de eliminar los tags HTML que se encuentren en el texto del correo.\n",
    "def strip_tags(html):\n",
    "    s = MLStripper()\n",
    "    s.feed(html)\n",
    "    return s.get_data()"
   ]
  },
  {
   "cell_type": "code",
   "execution_count": 9,
   "id": "d45e97af",
   "metadata": {},
   "outputs": [
    {
     "data": {
      "text/plain": [
       "'Phrack World News'"
      ]
     },
     "execution_count": 9,
     "metadata": {},
     "output_type": "execute_result"
    }
   ],
   "source": [
    "# Ejemplo de eliminación de los tags HTML de un texto.\n",
    "t = '<tr><td align=\"left\"><a href=\"../../issues/51/16.html#article\">Phrack World News</a></td>'\n",
    "strip_tags(t)"
   ]
  },
  {
   "cell_type": "markdown",
   "id": "3380c8ee",
   "metadata": {},
   "source": [
    "Además de eliminar los posibles tags HTML que se encuentren en el correo electónico, deben realizarse otras acciones de preprocesamiento para evitar que los mensajes contengan ruido inecesario. Entre ellas se encuentra la eliminación de los signos de puntuación, eliminación de posibles campos de correo electrónico que no son relevantes o eliminación de los afijos de una palabra manteniendo únicamente la raiz de la misma (Stemming). La clase que se muestra a continuación realiza estas transformaciones."
   ]
  },
  {
   "cell_type": "code",
   "execution_count": 10,
   "id": "b8a9c7a2",
   "metadata": {},
   "outputs": [],
   "source": [
    "import email\n",
    "import string\n",
    "import nltk\n",
    "\n",
    "\n",
    "class Parser:\n",
    "    \n",
    "    def __init__(self):\n",
    "        self.stemmer = nltk.PorterStemmer()\n",
    "        self.stopwords = set(nltk.corpus.stopwords.words('english'))\n",
    "        self.punctuation = list(string.punctuation)\n",
    "        \n",
    "    def parse(self, email_path):\n",
    "        \"\"\"Parse an email.\"\"\"\n",
    "        with open(email_path, errors='ignore') as e:\n",
    "            msg = email.message_from_file(e)\n",
    "        return None if not msg else self.get_email_content(msg)\n",
    "    \n",
    "    def get_email_content(self, msg):\n",
    "        \"\"\"Extract the email content.\"\"\"\n",
    "        subject = self.tokenize(msg['Subject']) if msg['Subject'] else []\n",
    "        body = self.get_email_body(msg.get_payload(),\n",
    "                                  msg.get_content_type())\n",
    "        content_type = msg.get_content_type()\n",
    "        # Returning the content of the email\n",
    "        return {\"subject\": subject,\n",
    "               \"body\": body,\n",
    "               \"content_type\": content_type}\n",
    "    \n",
    "    def get_email_body(self, payload, content_type):\n",
    "        \"\"\"Extract the body of the email.\"\"\"\n",
    "        body = []\n",
    "        if type(payload) is str and content_type == 'text/plain':\n",
    "            return self.tokenize(payload)\n",
    "        elif type(payload) is str and content_type == 'text/html':\n",
    "            return self.tokenize(strip_tags(payload))\n",
    "        elif type(payload) is list:\n",
    "            for p in payload:\n",
    "                body += self.get_email_body(p.get_payload(),\n",
    "                                           p.get_content_type())\n",
    "        return body\n",
    "    \n",
    "    def tokenize(self, text):\n",
    "        \"\"\"Transform a text string in tokens. Perform two main actions,\n",
    "        clean the punctuation symbols and stemming of the text.\"\"\"\n",
    "        for c in self.punctuation:\n",
    "            text = text.replace(c, \"\")\n",
    "        text = text.replace(\"\\t\", \" \")\n",
    "        text = text.replace(\"\\n\", \" \")\n",
    "        tokens = list(filter(None, text.split(\" \")))\n",
    "        # Steming of the tokens\n",
    "        return[self.stemmer.stem(w) for w in tokens if w not in self.stopwords]"
   ]
  },
  {
   "cell_type": "markdown",
   "id": "c7e1bf7a",
   "metadata": {},
   "source": [
    "##### Lectura de un correo en formato raw"
   ]
  },
  {
   "cell_type": "code",
   "execution_count": 11,
   "id": "df850036",
   "metadata": {},
   "outputs": [
    {
     "name": "stdout",
     "output_type": "stream",
     "text": [
      "From RickyAmes@aol.com  Sun Apr  8 13:07:32 2007\n",
      "Return-Path: <RickyAmes@aol.com>\n",
      "Received: from 129.97.78.23 ([211.202.101.74])\n",
      "\tby speedy.uwaterloo.ca (8.12.8/8.12.5) with SMTP id l38H7G0I003017;\n",
      "\tSun, 8 Apr 2007 13:07:21 -0400\n",
      "Received: from 0.144.152.6 by 211.202.101.74; Sun, 08 Apr 2007 19:04:48 +0100\n",
      "Message-ID: <WYADCKPDFWWTWTXNFVUE@yahoo.com>\n",
      "From: \"Tomas Jacobs\" <RickyAmes@aol.com>\n",
      "Reply-To: \"Tomas Jacobs\" <RickyAmes@aol.com>\n",
      "To: the00@speedy.uwaterloo.ca\n",
      "Subject: Generic Cialis, branded quality@ \n",
      "Date: Sun, 08 Apr 2007 21:00:48 +0300\n",
      "X-Mailer: Microsoft Outlook Express 6.00.2600.0000\n",
      "MIME-Version: 1.0\n",
      "Content-Type: multipart/alternative;\n",
      "\tboundary=\"--8896484051606557286\"\n",
      "X-Priority: 3\n",
      "X-MSMail-Priority: Normal\n",
      "Status: RO\n",
      "Content-Length: 988\n",
      "Lines: 24\n",
      "\n",
      "----8896484051606557286\n",
      "Content-Type: text/html;\n",
      "Content-Transfer-Encoding: 7Bit\n",
      "\n",
      "<html>\n",
      "<body bgcolor=\"#ffffff\">\n",
      "<div style=\"border-color: #00FFFF; border-right-width: 0px; border-bottom-width: 0px; margin-bottom: 0px;\" align=\"center\">\n",
      "<table style=\"border: 1px; border-style: solid; border-color:#000000;\" cellpadding=\"5\" cellspacing=\"0\" bgcolor=\"#CCFFAA\">\n",
      "<tr>\n",
      "<td style=\"border: 0px; border-bottom: 1px; border-style: solid; border-color:#000000;\">\n",
      "<center>\n",
      "Do you feel the pressure to perform and not rising to the occasion??<br>\n",
      "</center>\n",
      "</td></tr><tr>\n",
      "<td bgcolor=#FFFF33 style=\"border: 0px; border-bottom: 1px; border-style: solid; border-color:#000000;\">\n",
      "<center>\n",
      "\n",
      "<b><a href='http://excoriationtuh.com/?lzmfnrdkleks'>Try <span>V</span><span>ia<span></span>gr<span>a</span>.....</a></b></center>\n",
      "</td></tr><td><center>your anxiety will be a thing of the past and you will<br>\n",
      "be back to your old self.\n",
      "</center></td></tr></table></div></body></html>\n",
      "\n",
      "\n",
      "----8896484051606557286--\n",
      "\n",
      "\n"
     ]
    }
   ],
   "source": [
    "inmail = open(\"datasets/trec07p/data/inmail.1\").read()\n",
    "print(inmail)"
   ]
  },
  {
   "cell_type": "markdown",
   "id": "10300bdf",
   "metadata": {},
   "source": [
    "##### Parsing del correo electrónico"
   ]
  },
  {
   "cell_type": "code",
   "execution_count": 13,
   "id": "8285b1fc",
   "metadata": {},
   "outputs": [
    {
     "ename": "NameError",
     "evalue": "name 'parser' is not defined",
     "output_type": "error",
     "traceback": [
      "\u001b[0;31m---------------------------------------------------------------------------\u001b[0m",
      "\u001b[0;31mNameError\u001b[0m                                 Traceback (most recent call last)",
      "Cell \u001b[0;32mIn[13], line 1\u001b[0m\n\u001b[0;32m----> 1\u001b[0m p \u001b[38;5;241m=\u001b[39m \u001b[43mparser\u001b[49m()\n\u001b[1;32m      2\u001b[0m p\u001b[38;5;241m.\u001b[39mparser(\u001b[38;5;124m\"\u001b[39m\u001b[38;5;124mdatasets/trec07p/data/inmail.1\u001b[39m\u001b[38;5;124m\"\u001b[39m)\n",
      "\u001b[0;31mNameError\u001b[0m: name 'parser' is not defined"
     ]
    }
   ],
   "source": [
    "p = parser()\n",
    "p.parser(\"datasets/trec07p/data/inmail.1\")"
   ]
  },
  {
   "cell_type": "markdown",
   "id": "e2421044",
   "metadata": {},
   "source": [
    "Lectura de indice"
   ]
  },
  {
   "cell_type": "markdown",
   "id": "1849280f",
   "metadata": {},
   "source": [
    "Estas funciones se encargan de cargar en memoria la ruta  de cada uno de  cada uno de los correo selectronicos y su etiqueta correspondiente (spam, ham)"
   ]
  },
  {
   "cell_type": "code",
   "execution_count": null,
   "id": "6999e671",
   "metadata": {},
   "outputs": [],
   "source": [
    "index = open(\"datasets/trec07p/data/inmail.1\").readlines()\n",
    "index"
   ]
  },
  {
   "cell_type": "code",
   "execution_count": null,
   "id": "c5735111",
   "metadata": {},
   "outputs": [],
   "source": [
    "import os\n",
    "\n",
    "DATASET_PATH = \"dataset/trec07\"\n",
    "\n",
    "def parse_index(path_to_index, n_elements):\n",
    "    ret_indexes = []\n",
    "    index = open(path_to_index).readlines()\n",
    "    for i in range(n_elements):\n",
    "        mail = index[i].split(\" ../\")\n",
    "        label = mail[0]\n",
    "        path = mail[1][:-1]\n",
    "        ret_indexes.append({\"label\": label, \"email_path\": os.path.join(DATASET_PATH, path)})\n",
    "    return ret_indexes\n"
   ]
  },
  {
   "cell_type": "code",
   "execution_count": null,
   "id": "6abc582c",
   "metadata": {},
   "outputs": [],
   "source": [
    "def parse_email(index):\n",
    "    p = Parser()\n",
    "    email = p.parse(index[\"email_Path\"])\n",
    "    return pmail, index[\"label\"]"
   ]
  },
  {
   "cell_type": "code",
   "execution_count": null,
   "id": "bcdbf1ad",
   "metadata": {},
   "outputs": [],
   "source": [
    "indexes = parse_index(\"datasets/trec07p/full/index\", 10)\n",
    "indexes"
   ]
  },
  {
   "cell_type": "markdown",
   "id": "79c7cbba",
   "metadata": {},
   "source": [
    "## 2.-Preprocesamiento"
   ]
  },
  {
   "cell_type": "markdown",
   "id": "8bcd9b7b",
   "metadata": {},
   "source": [
    "Con las funciones anteriores se permite la lectura de los correos electronicos de manera programatica y el procesamiento de los mismos para eliminar aquellos componentes que no resultan de utilidad para la deteccion de correos de SPAM sin embargo cada unp de lo scorreos sigue estando representado por un diccionario de python con una serie de palabras ok."
   ]
  },
  {
   "cell_type": "code",
   "execution_count": null,
   "id": "221f6e9c",
   "metadata": {},
   "outputs": [],
   "source": [
    "# Cargar el indice y las etiquetas en memoria \n",
    "index = parse_index(\"datasets/trec07p/full/index\",1)\n"
   ]
  },
  {
   "cell_type": "code",
   "execution_count": null,
   "id": "c51fd09d",
   "metadata": {},
   "outputs": [],
   "source": [
    "# Leer el primer correo.\n",
    "import os\n",
    "open(index[0][\"email_path\"]).read"
   ]
  },
  {
   "cell_type": "code",
   "execution_count": null,
   "id": "6e4ec5f0",
   "metadata": {},
   "outputs": [],
   "source": [
    "#Parsear el primer correo.\n",
    "email, label = parse_email(index[0])\n",
    "print(\"El correo es:\", label)\n",
    "print (email)"
   ]
  },
  {
   "cell_type": "code",
   "execution_count": null,
   "id": "dc285bd8",
   "metadata": {},
   "outputs": [],
   "source": []
  },
  {
   "cell_type": "code",
   "execution_count": null,
   "id": "e854e5e8",
   "metadata": {},
   "outputs": [],
   "source": []
  }
 ],
 "metadata": {
  "kernelspec": {
   "display_name": "Python 3 (ipykernel)",
   "language": "python",
   "name": "python3"
  },
  "language_info": {
   "codemirror_mode": {
    "name": "ipython",
    "version": 3
   },
   "file_extension": ".py",
   "mimetype": "text/x-python",
   "name": "python",
   "nbconvert_exporter": "python",
   "pygments_lexer": "ipython3",
   "version": "3.10.11"
  }
 },
 "nbformat": 4,
 "nbformat_minor": 5
}
