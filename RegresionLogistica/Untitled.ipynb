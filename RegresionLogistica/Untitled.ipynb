{
 "cells": [
  {
   "cell_type": "markdown",
   "id": "1ed242ad",
   "metadata": {},
   "source": [
    "# Regresión Logstica:Detección de SPAM."
   ]
  },
  {
   "cell_type": "markdown",
   "id": "12e8ee8d",
   "metadata": {},
   "source": [
    "Ene ste ejercicio se muestran los fundamentos de la regresion Logistica, planteando uno de los pimeros problemas que fueron solucionados mediante el uso de tecnicas de machine learning: La deteccion de SPAM."
   ]
  },
  {
   "cell_type": "markdown",
   "id": "62513e37",
   "metadata": {},
   "source": [
    "## Enunciado del Ejercicio"
   ]
  },
  {
   "cell_type": "markdown",
   "id": "0f345727",
   "metadata": {},
   "source": [
    "Se peopone la contruccion de un sistema de aprendizaje automatico capas de predecir si un correo determinado se corresponde con un correo de SPAM o no, para sitio, se utilizará el siguiente conjunto de datos:                                                                                                                                           #####207TEC Public Spam Corpus]"
   ]
  },
  {
   "cell_type": "code",
   "execution_count": null,
   "id": "5ca62adc",
   "metadata": {},
   "outputs": [],
   "source": [
    "def get_body(self, payload, content_type):\n",
    "    \"\"\"Extract the body of the email\"\"\"\n",
    "    body = []\n",
    "    if type(payload is str and content_type == 'text/')\n",
    "           return self.tokenize(payload)\n",
    "    elif type (payload) is str and content_type == 'text/'\n",
    "        return self.tokenize(strip_tags(payload))\n",
    "    elif type(payload) is list:\n",
    "        for p in payload:\n",
    "            body += self.get_email_body(p.get_payload(),\n",
    "                                       p.get_content_type)\n",
    "            return body\n",
    "        def tokenize(self, text):\n",
    "            \"\"\"Transform a text string in tokens\"\"\"\n",
    "    "
   ]
  }
 ],
 "metadata": {
  "kernelspec": {
   "display_name": "Python 3 (ipykernel)",
   "language": "python",
   "name": "python3"
  },
  "language_info": {
   "codemirror_mode": {
    "name": "ipython",
    "version": 3
   },
   "file_extension": ".py",
   "mimetype": "text/x-python",
   "name": "python",
   "nbconvert_exporter": "python",
   "pygments_lexer": "ipython3",
   "version": "3.10.11"
  }
 },
 "nbformat": 4,
 "nbformat_minor": 5
}
